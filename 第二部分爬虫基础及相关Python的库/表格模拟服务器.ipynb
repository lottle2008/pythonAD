{
 "cells": [
  {
   "cell_type": "code",
   "execution_count": null,
   "id": "1e915b00-f301-4fa0-a2f8-33b6d41511df",
   "metadata": {},
   "outputs": [
    {
     "name": "stdout",
     "output_type": "stream",
     "text": [
      " * Serving Flask app 'app'\n",
      " * Debug mode: on\n",
      "\u001b[31m\u001b[1mWARNING: This is a development server. Do not use it in a production deployment. Use a production WSGI server instead.\u001b[0m\n",
      " * Running on http://127.0.0.1:5000\n",
      "\u001b[33mPress CTRL+C to quit\u001b[0m\n",
      " * Restarting with watchdog (fsevents)\n",
      " * Debugger is active!\n",
      " * Debugger PIN: 132-342-577\n",
      "127.0.0.1 - - [29/Apr/2025 19:39:54] \"GET / HTTP/1.1\" 200 -\n",
      "127.0.0.1 - - [29/Apr/2025 19:39:54] \"\u001b[33mGET /favicon.ico HTTP/1.1\u001b[0m\" 404 -\n",
      "127.0.0.1 - - [29/Apr/2025 19:39:55] \"GET / HTTP/1.1\" 200 -\n",
      "127.0.0.1 - - [29/Apr/2025 19:40:13] \"POST /login HTTP/1.1\" 200 -\n",
      "127.0.0.1 - - [29/Apr/2025 19:40:33] \"POST /login HTTP/1.1\" 200 -\n",
      "127.0.0.1 - - [29/Apr/2025 19:43:08] \"GET / HTTP/1.1\" 200 -\n",
      "127.0.0.1 - - [29/Apr/2025 19:43:08] \"POST /login HTTP/1.1\" 200 -\n"
     ]
    }
   ],
   "source": [
    "!python app.py"
   ]
  },
  {
   "cell_type": "code",
   "execution_count": null,
   "id": "deb686b0-5459-49a9-a6b1-e6b50cd5c80d",
   "metadata": {},
   "outputs": [],
   "source": []
  }
 ],
 "metadata": {
  "kernelspec": {
   "display_name": "Python 3 (ipykernel)",
   "language": "python",
   "name": "python3"
  },
  "language_info": {
   "codemirror_mode": {
    "name": "ipython",
    "version": 3
   },
   "file_extension": ".py",
   "mimetype": "text/x-python",
   "name": "python",
   "nbconvert_exporter": "python",
   "pygments_lexer": "ipython3",
   "version": "3.12.2"
  }
 },
 "nbformat": 4,
 "nbformat_minor": 5
}
