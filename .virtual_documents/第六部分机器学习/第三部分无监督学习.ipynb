


import numpy as np
import pandas as pd
import matplotlib.pyplot as plt
import seaborn as sns
from sklearn.cluster import KMeans
from sklearn.datasets import make_blobs, load_iris, load_digits
from sklearn.preprocessing import StandardScaler
from sklearn.metrics import silhouette_score, silhouette_samples

# 创建示例数据
X, y_true = make_blobs(n_samples=300, centers=4, n_features=2,
                       cluster_std=0.6, random_state=42)

# 可视化原始数据
plt.figure(figsize=(8, 6))
plt.scatter(X[:, 0], X[:, 1], s=50, alpha=0.8)
plt.xlabel('Feature 1')
plt.ylabel('Feature 2')
plt.title('Original Data')
plt.grid(True, alpha=0.3)
plt.show()

# 应用K-Means
kmeans = KMeans(n_clusters=4, random_state=42, n_init='auto') # Added n_init for future versions
y_kmeans = kmeans.fit_predict(X)

# 可视化聚类结果
plt.figure(figsize=(8, 6))
plt.scatter(X[:, 0], X[:, 1], c=y_kmeans, s=50, cmap='viridis', alpha=0.8)
centers = kmeans.cluster_centers_
plt.scatter(centers[:, 0], centers[:, 1], c='red', s=200, alpha=0.8,
            marker='*', edgecolor='black', linewidth=2)
plt.xlabel('Feature 1')
plt.ylabel('Feature 2')
plt.title('K-Means Clustering Results')
plt.grid(True, alpha=0.3)
plt.show()

print(f"Cluster centers:\n{centers}")
print(f"Inertia (within-cluster sum of squares): {kmeans.inertia_:.2f}")




