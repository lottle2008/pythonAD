


# 检查一个数字是否为正数
number = -5
if number > 0:
    print("这是一个正数")  # 输出: 这是一个正数


number ==5


type(number > 0)





# 根据年龄判断身份
age = 18

if age < 18:
    print("你是未成年人")
elif age == 18:
    print("你刚成年")  # 输出: 你刚成年
else:
    print("你是成年人")





list1=[1,2,3,4]
for a in list1:
    b=a+1
    print(b)


fruits = ["苹果", "香蕉", "樱桃"]
for a in fruits:
    print(a)
# 输出:
# 
# 香蕉
# 樱桃








range(3)=[0,1,2]


# 打印 0 到 2
for i in range(3):
    print(i)
# 输出:
# 0
# 1
# 2


# 打印 1、3、5
for i in range(1, 6, 2):
    print(i)
# 输出:
# 1
# 3
# 5





# 打印 0 到 4
count = 0
while count < 5:
    print("计数为", count)
    count += 1  # 递增 count，否则会导致无限循环
# 输出:
# 计数为 0
# 计数为 1
# 计数为 2
# 计数为 3
# 计数为 4





for i in range(10):
    if i == 5:
        break  # 当 i == 5 时退出循环
    print(i)
# 输出:
# 0
# 1
# 2
# 3
# 4





for i in range(5):
    if i == 2:
        continue  # 跳过 i == 2 的迭代
    print(i)
# 输出:
# 0
# 1
# 3
# 4





for i in range(5):
    if i == 3:
        pass  # 什么都不做
    else:
        print(i)
# 输出:
# 0
# 1
# 2
# 4





age = 20
gender = "女"
                                       
if age >= 18:
    if gender == "女":
        print("成年女性")  # 输出: 成年女性
    else:
        print("成年男性")
else:
    print("未成年人")





for i in range(3):
    for j in range(2):
        print(f"i={i}, j={j}")
# 输出:
# i=0, j=0
# i=0, j=1
# i=1, j=0
# i=1, j=1
# i=2, j=0
# i=2, j=1





age = 20
status = "成年" if age >= 18 else "未成年"
print(status)  # 输出: 成年





a>5&a<7





# 打印2到100的质数
print("2到100的质数有：")

# 外层循环：遍历2到100的每个数
for num in range(2, 101):
    # 假设当前数是质数
    is_prime = True
    
    # 内层循环：从2除到num-1
    for i in range(2, num):
        # 如果能被整除，说明不是质数
        if num % i == 0:
            is_prime = False
            break  # 找到一个因子就可以退出内层循环
    
    # 如果是质数，打印出来
    if is_prime:
        print(num, end=" ")

# 换行
print()

# 统计质数个数
count = 0
for num in range(2, 101):
    is_prime = True
    for i in range(2, num):
        if num % i == 0:
            is_prime = False
            break
    if is_prime:
        count += 1

print(f"\n2到100之间共有 {count} 个质数")




