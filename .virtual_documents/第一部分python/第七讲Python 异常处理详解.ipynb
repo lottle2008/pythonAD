


result = 10 / 0
print("nihao")


try:
    result = 10 / 0
except ZeroDivisionError:
    print("错误：除以零！")  # 输出: 错误：除以零！
print("nihao")
print(result)





try:
    num = int(input("请输入一个数字："))
    result = 10 / num
except (ValueError, ZeroDivisionError):
    print("输入无效或除以零！")





try:
    result = 10 / 0
except ZeroDivisionError as e:
    print(f"错误：{e}")  # 输出: 错误：division by zero





try:
    num = int(input("请输入一个数字："))
except ValueError:
    print("输入的不是数字！")
else:
    print(f"你输入了：{num}")





try:
    f = open("data.txt", "r")
    content = f.read()
except FileNotFoundError:
    print("文件未找到")
finally:
    print("关闭文件")
    if 'f' in locals():
        f.close()  # 只有在文件成功打开时才关闭





def check_age(age):
    if age < 18:
        raise ValueError("年龄必须大于或等于18")
    else:
        print("年龄合法")
check_age(15)
try:
    check_age(15)
except ValueError as e:
    print(f"错误：{e}")  # 输出: 错误：年龄必须大于或等于18


def check_age(age):
    if age < 18:
        raise ValueError("年龄必须大于或等于18")
    else:
        print("年龄合法")
check_age(15)


try:
    check_age(15)
except ValueError as e:
    print(f"错误：{e}")  # 输出: 错误：年龄必须大于或等于18





class InvalidAgeError(Exception):
    def __init__(self, age, message="年龄必须在18到120之间"):
        self.age = age
        self.message = message
        super().__init__(self.message)

def check_age(age):
    if not 18 <= age <= 120:
        raise InvalidAgeError(age)
    else:
        print("年龄合法")
check_age(150)
try:
    check_age(150)
except InvalidAgeError as e:
    print(f"无效年龄：{e.age}，{e.message}")


class InvalidAgeError(Exception):
    def __init__(self, age, message="年龄必须在18到120之间"):
        self.age = age
        self.message = message
        super().__init__(self.message)

def check_age(age):
    if not 18 <= age <= 120:
        raise InvalidAgeError(age)
    else:
        print("年龄合法")
check_age(150)








class InsufficientBalanceError(Exception):
    def __init__(self, balance, amount, message="余额不足"):
        self.balance = balance
        self.amount = amount
        self.message = message
        super().__init__(self.message)

class BankAccount:
    def __init__(self, balance=0):
        self.balance = balance
    
    def withdraw(self, amount):
        if amount > self.balance:
            raise InsufficientBalanceError(self.balance, amount)
        self.balance -= amount
        return self.balance

# 主程序
account = BankAccount(100)
try:
    print(f"当前余额：{account.balance}")
    account.withdraw(150)
except InsufficientBalanceError as e:
    print(f"错误：{e.message}，余额：{e.balance}，尝试取出：{e.amount}")
else:
    print("取款成功")
finally:
    print("操作完成")






