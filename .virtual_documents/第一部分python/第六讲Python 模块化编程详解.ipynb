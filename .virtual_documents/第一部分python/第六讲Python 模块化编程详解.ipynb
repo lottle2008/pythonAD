


# 导入整个模块
import mymodule
print(mymodule.greet("Alice"))  # 输出: 你好, Alice!

# 导入特定对象
from mymodule import greet
print(greet("Bob"))  # 输出: 你好, Bob!

# 使用别名
import mymodule as mm
print(mm.greet("Charlie"))  # 输出: 你好, Charlie!





import mymodule
print(mymodule.greet("Alice"))  # 输出: 你好, Alice!



from mymodule import greet1
print(greet1("Bob"))  # 输出: 你好, Bob!





# 主程序
import mypackage
mypackage.func1()  # 输出: 这是 module1 的 func1
mypackage.func2()  # 输出: 这是 module2 的 func2


# 导入包中的模块
import mypackage.module1
mypackage.module1.func1()

# 导入模块中的对象
from mypackage.module2 import func2
func2()





# # module1.py
# var = "module1"

# # module2.py
# var = "module2"

# main.py
import module1
import module2
print(module1.var)  # 输出: module1
print(module2.var)  # 输出: module2






