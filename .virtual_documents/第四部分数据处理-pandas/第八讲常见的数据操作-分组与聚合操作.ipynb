


# 导入所需的库
import pandas as pd
import numpy as np

# 读取数据
df_students = pd.read_csv('data/student_info.csv')
df_orders = pd.read_csv('data/order_info.csv')
df_products = pd.read_csv('data/product_info.csv')
df_order_details = pd.read_csv('data/order_details.csv')






# 最基本的分组操作，类似于Excel中的分类汇总
# 按'商品类别'分组，统计每个类别的订单金额总和
basic_group = df_orders.groupby('商品类别')['订单金额'].sum()
print("基本分组统计（按商品类别汇总销售额）：")  # 输出基本分组统计的标题
print(basic_group)  # 打印每个商品类别的总销售额

# 查看分组的基本信息
print("\n分组信息：")  # 输出分组信息的标题
group_info = df_orders.groupby('商品类别')  # 创建一个按'商品类别'分组的对象
print(f"分组数量: {len(group_info)}")  # 打印分组数量
print(f"分组项: {list(group_info.groups.keys())}")  # 打印分组项的名称列表

# 分组后的描述性统计，类似于Excel中的描述统计功能
group_desc = df_orders.groupby('商品类别')['订单金额'].describe()
print("\n各类别订单金额描述性统计：")  # 输出描述性统计的标题
print(group_desc)  # 打印每个商品类别的订单金额的描述性统计信息






# 按多个字段分组，类似于Excel中的多级分类汇总
multi_group = df_orders.groupby(['商品类别', '年级'])['订单金额'].agg([
    ('订单数', 'count'),  # 计算每个分组的订单数量
    ('总金额', 'sum'),    # 计算每个分组的订单金额总和
    ('平均金额', 'mean')  # 计算每个分组的订单金额平均值
]).round(2)  # 将结果四舍五入到小数点后两位

print("多字段分组统计：")  # 输出多字段分组统计的标题
print(multi_group)  # 打印多字段分组统计的结果

# 按多个字段分组，对不同的列应用不同的聚合函数进行统计分析
multi_stats = df_orders.groupby(['商品类别', '年级']).agg({
    '订单金额': ['sum', 'mean'],  # 对'订单金额'列进行求和和求平均
    '购买数量': 'sum',            # 对'购买数量'列进行求和
    '优惠金额': ['sum', 'mean']   # 对'优惠金额'列进行求和和求平均
}).round(2)  # 将结果四舍五入到小数点后两位

print("\n多字段多指标统计：")  # 输出多字段多指标统计的标题
print(multi_stats)  # 打印多字段多指标统计的结果






# 使用 agg 方法进行复杂的分组统计
advanced_stats = df_orders.groupby('商品类别').agg({
    '订单金额': [  # 对 '订单金额' 列进行多种统计
        ('总销售额', 'sum'),  # 计算每个商品类别的订单金额总和，并重命名为 "总销售额"
        ('平均订单额', 'mean'),  # 计算每个商品类别的平均订单金额，并重命名为 "平均订单额"
        ('订单数', 'count'),  # 计算每个商品类别的订单数量，并重命名为 "订单数"
        ('最大订单', 'max'),  # 计算每个商品类别的最大订单金额，并重命名为 "最大订单"
        ('最小订单', 'min')  # 计算每个商品类别的最小订单金额，并重命名为 "最小订单"
    ],
    '购买数量': [  # 对 '购买数量' 列进行统计
        ('总数量', 'sum'),  # 计算每个商品类别的购买数量总和，并重命名为 "总数量"
        ('平均数量', 'mean')  # 计算每个商品类别的平均购买数量，并重命名为 "平均数量"
    ]
}).round(2)  # 将结果四舍五入到小数点后两位

print("复杂分组统计：")  # 输出复杂分组统计的标题
print(advanced_stats)  # 打印复杂分组统计的结果






# 使用 transform 方法进行组内计算（在 Excel 中需要用复杂的公式实现）
# 计算每个订单金额在所属商品类别总金额中所占的比例
df_orders['类别总金额'] = df_orders.groupby('商品类别')['订单金额'].transform('sum')  
# 对 '商品类别' 分组，计算每个类别的订单金额总和，并将结果分配到每个订单中

df_orders['占类别比例'] = (df_orders['订单金额'] / df_orders['类别总金额']).round(4)  
# 计算每个订单金额占该类别总金额的比例，并将结果保留到小数点后四位

# 计算每个订单金额与其类别的平均金额之间的差异
df_orders['类别平均金额'] = df_orders.groupby('商品类别')['订单金额'].transform('mean')  
# 对 '商品类别' 分组，计算每个类别的订单金额平均值，并将结果分配到每个订单中

df_orders['与平均值差异'] = (df_orders['订单金额'] - df_orders['类别平均金额']).round(2)  
# 计算每个订单金额与类别平均金额的差异，并将结果保留到小数点后两位

print("分组转换结果示例：")  
# 输出分组转换结果示例的标题

print(df_orders[['商品类别', '订单金额', '类别总金额', '占类别比例', '类别平均金额', '与平均值差异']].head())  
# 打印数据框中选定的列，展示前几行的分组转换结果





# 定义自定义聚合函数（实现 Excel 中难以完成的复杂计算）
def value_range(x):
    """计算数值范围"""
    return x.max() - x.min()  
    # 计算传入数据的最大值与最小值之差，得到数值范围

def top_3_mean(x):
    """计算前3名的平均值"""
    return x.nlargest(3).mean()  
    # 取数据中最大的3个值并计算它们的平均值

# 使用自定义函数进行分组统计
custom_agg = df_orders.groupby('商品类别')['订单金额'].agg([
    ('数值范围', value_range),  # 使用自定义函数 value_range 计算数值范围
    ('前3名平均', top_3_mean)   # 使用自定义函数 top_3_mean 计算前3名的平均值
]).round(2)  # 将结果保留到小数点后两位

print("自定义聚合统计：")
print(custom_agg)
print("自定义聚合统计：")  
# 输出自定义聚合统计的标题

print(custom_agg)  
# 打印自定义聚合统计的结果





# 综合分析（相当于 Excel 中多个统计表的组合）
comprehensive_analysis = df_orders.groupby(['商品类别', '年级']).agg({
    '订单金额': [
        ('总额', 'sum'),  # 计算订单金额的总和，并命名为 "总额"
        ('均值', 'mean'),  # 计算订单金额的平均值，并命名为 "均值"
        ('数量', 'count'),  # 计算订单数，并命名为 "数量"
        ('范围', value_range),  # 使用自定义函数计算数值范围，并命名为 "范围"
        ('前3均值', top_3_mean)  # 使用自定义函数计算前3名的平均值，并命名为 "前3均值"
    ],
    '购买数量': [
        ('总量', 'sum'),  # 计算购买数量的总和，并命名为 "总量"
        ('均量', 'mean')  # 计算购买数量的平均值，并命名为 "均量"
    ]
}).round(2)  
# 将所有结果保留到小数点后两位

print("综合统计分析：")  
# 输出综合统计分析的标题

print(comprehensive_analysis)  
# 打印综合统计分析的结果





def sales_analysis(group):
    """综合销售分析"""
    return pd.Series({
        '订单数': len(group),  # 计算订单数
        '总金额': group['订单金额'].sum(),  # 计算总销售金额
        '平均金额': group['订单金额'].mean(),  # 计算平均订单金额
        '最大订单': group['订单金额'].max(),  # 计算最大订单金额
        '平均数量': group['购买数量'].mean(),  # 计算平均购买数量
        '优惠比例': (group['优惠金额'].sum() / group['订单金额'].sum() * 100).round(2),  # 计算优惠金额占订单金额的百分比
        '前3均值': group['订单金额'].nlargest(3).mean()  # 计算订单金额中最大的3个值的平均
    })

# 使用 apply 进行分组计算，并排除分组列
sales_report = df_orders.groupby(['商品类别', '年级'], group_keys=False).apply(sales_analysis)

print("综合销售分析报表：")
print(sales_report)



