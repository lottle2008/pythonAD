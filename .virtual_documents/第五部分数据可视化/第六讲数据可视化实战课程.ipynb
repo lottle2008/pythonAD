


import pandas as pd
import numpy as np

# 创建一个示例 DataFrame
data = {
    'Age': [25, 30, np.nan, 35, 40],
    'Salary': [50000, 60000, 75000, np.nan, 90000],
    'City': ['New York', 'London', 'Paris', 'Tokyo', 'Berlin'],
    'JoinDate': pd.to_datetime(['2020-01-01', '2019-05-15', '2021-02-20', '2018-11-30', '2022-07-10']),
    'IsManager': [True, False, True, False, True]
}
df = pd.DataFrame(data)

print("--- df.info() ---")
df.info()

print("\n--- df.describe(include='all', datetime_is_numeric=True) ---")
print(df.describe(include='all', datetime_is_numeric=True))

print("\n--- df.dtypes ---")
print(df.dtypes)





import numpy as np
import matplotlib.pyplot as plt
import seaborn as sns

# 示例1: 少量离散的年龄数据
ages = [23, 25, 25, 31, 31, 31, 35, 41, 45, 48, 52, 55, 60, 65, 65]

# 示例2: 大量模拟的学生成绩数据 (正态分布)
np.random.seed(42) # 为了结果可复现
scores = np.random.normal(loc=85, scale=10, size=1000) # 均值85，标准差10





plt.figure(figsize=(8, 4))
sns.stripplot(x=ages, jitter=True, size=8, alpha=0.7) # jitter=True 避免点重叠
plt.title('Distribution of Ages (Small Dataset)')
plt.xlabel('Age')
plt.yticks([]) # 隐藏y轴刻度，因为我们只关心x轴的分布
plt.show()





age_counts = pd.Series(ages).value_counts().sort_index()
plt.figure(figsize=(8,4))
plt.bar(age_counts.index, age_counts.values, color='skyblue')
plt.xlabel("Age")
plt.ylabel("Count")
plt.title("Frequency of Each Age")
plt.xticks(age_counts.index) #确保每个年龄都显示
plt.show()





# 使用 Matplotlib
plt.figure(figsize=(10, 5))
plt.hist(scores, bins=20, color='skyblue', edgecolor='black')
plt.title('Distribution of Scores (Histogram - Matplotlib)')
plt.xlabel('Score')
plt.ylabel('Frequency')
plt.show()

# 使用 Seaborn (可以同时显示核密度估计 KDE)
plt.figure(figsize=(10, 5))
sns.histplot(scores, bins=20, kde=True, color='lightcoral') # kde=True 会添加一条平滑的密度曲线
plt.title('Distribution of Scores (Histogram with KDE - Seaborn)')
plt.xlabel('Score')
plt.ylabel('Frequency / Density')
plt.show()





plt.figure(figsize=(10, 5))
sns.kdeplot(scores, fill=True, color='mediumseagreen') # fill=True 填充曲线下方区域
plt.title('Distribution of Scores (Density Plot - Seaborn)')
plt.xlabel('Score')
plt.ylabel('Density')
plt.show()





plt.figure(figsize=(6, 8))
sns.boxplot(y=scores, color='lightblue')
plt.title('Box Plot of Scores')
plt.ylabel('Score')
plt.show()

# 如果想横向显示
plt.figure(figsize=(8, 4))
sns.boxplot(x=scores, color='lightgoldenrodyellow')
plt.title('Horizontal Box Plot of Scores')
plt.xlabel('Score')
plt.show()





import pandas as pd
import matplotlib.pyplot as plt
import seaborn as sns
import numpy as np

# 示例1: 身高和体重 (无时间顺序)
np.random.seed(0)
height = np.random.normal(170, 10, 50) # 均值170，标准差10，50个样本
weight = height * 0.5 - 5 + np.random.normal(0, 5, 50) # 体重与身高大致线性相关，加点噪声

# 示例2: 时间和销售额 (有时间顺序)
dates = pd.to_datetime(['2023-01-01', '2023-02-01', '2023-03-01', '2023-04-01', '2023-05-01',
                        '2023-06-01', '2023-07-01', '2023-08-01', '2023-09-01', '2023-10-01'])
sales = [100, 110, 105, 120, 130, 125, 140, 150, 145, 160]

# 示例3: 用于多系列对比的数据
df_sales_multi = pd.DataFrame({
    'time': pd.to_datetime(['2023-01-01', '2023-02-01', '2023-03-01'] * 2),
    'value': [10, 12, 15, 8, 10, 9],
    'category': ['A', 'A', 'A', 'B', 'B', 'B']
})





plt.figure(figsize=(8, 6))
plt.scatter(height, weight, alpha=0.7, edgecolors='w', s=50) # s是点的大小
plt.title('Height vs Weight (Basic Scatter Plot)')
plt.xlabel('Height (cm)')
plt.ylabel('Weight (kg)')
plt.grid(True, linestyle='--', alpha=0.5)
plt.show()





plt.figure(figsize=(8, 6))
sns.scatterplot(x=height, y=weight, s=60, color='dodgerblue', alpha=0.8)
plt.title('Height vs Weight (Seaborn Scatter Plot)')
plt.xlabel('Height (cm)')
plt.ylabel('Weight (kg)')
plt.show()

plt.figure(figsize=(8, 6))
sns.regplot(x=height, y=weight, scatter_kws={'s': 50, 'alpha':0.6}, line_kws={'color':'red'})
plt.title('Height vs Weight with Regression Line')
plt.xlabel('Height (cm)')
plt.ylabel('Weight (kg)')
plt.show()





plt.figure(figsize=(10, 5))
plt.plot(dates, sales, marker='o', linestyle='-', color='green') # marker标记数据点
plt.title('Monthly Sales Trend (Line Plot)')
plt.xlabel('Date')
plt.ylabel('Sales')
plt.xticks(rotation=45) # 旋转x轴标签，避免重叠
plt.grid(True, linestyle=':', alpha=0.7)
plt.tight_layout() # 调整布局，防止标签被截断
plt.show()





plt.figure(figsize=(10, 5))
sns.lineplot(data=df_sales_multi, x='time', y='value', hue='category', marker='o')
plt.title('Monthly Sales Trend by Category')
plt.xlabel('Time')
plt.ylabel('Value')
plt.xticks(rotation=30)
plt.legend(title='Category')
plt.show()





# 假设 x 和 y 是有序的
x_ordered = sorted(height)[:10] #取排序后的前10个身高
y_corresponding = [w for h, w in sorted(zip(height, weight))][:10] #对应的体重

plt.figure(figsize=(8, 5))
plt.plot(x_ordered, y_corresponding, marker='o', linestyle='-', color='purple') # 'o-' 是快捷方式
plt.title('Ordered Data Points with Connecting Lines')
plt.xlabel('Ordered Variable X')
plt.ylabel('Corresponding Variable Y')
plt.show()





# 假设只有少量数据
height_small = height[:7]
weight_small = weight[:7]
plt.figure(figsize=(8, 6))
plt.scatter(height_small, weight_small, s=100, color='orange')
for i in range(len(height_small)):
    plt.text(height_small[i] + 0.5, weight_small[i], f"({height_small[i]:.0f},{weight_small[i]:.0f})")
plt.title('Small Dataset with Labels')
plt.xlabel('Height (cm)')
plt.ylabel('Weight (kg)')
plt.show()





plt.figure(figsize=(8, 6))
plt.scatter(height, weight, alpha=0.3, color='darkcyan') # 降低透明度
plt.title('Height vs Weight (High Density with Alpha)')
plt.xlabel('Height (cm)')
plt.ylabel('Weight (kg)')
plt.show()





# Hexbin Plot
plt.figure(figsize=(8, 6))
plt.hexbin(height, weight, gridsize=20, cmap='Blues') # gridsize控制六边形数量
plt.colorbar(label='Count in bin')
plt.title('Height vs Weight (Hexbin Plot)')
plt.xlabel('Height (cm)')
plt.ylabel('Weight (kg)')
plt.show()

# 2D Density Plot (KDE Plot) with Seaborn
plt.figure(figsize=(8, 6))
sns.kdeplot(x=height, y=weight, cmap="Reds", fill=True, thresh=0.05)
plt.title('Height vs Weight (2D Density Plot)')
plt.xlabel('Height (cm)')
plt.ylabel('Weight (kg)')
plt.show()





import matplotlib.pyplot as plt
import seaborn as sns
import numpy as np
from mpl_toolkits.mplot3d import Axes3D # 用于3D绘图
import pandas as pd

np.random.seed(42)
n_points = 50
x_data = np.random.rand(n_points) * 10
y_data = 2 * x_data + np.random.randn(n_points) * 2 + 5
size_data = np.random.rand(n_points) * 1000 + 100 # 代表第三个维度，如数量、权重
color_data = np.random.rand(n_points) * 100     # 代表第三个维度，如温度、强度

df_3d = pd.DataFrame({
    'X_Value': x_data,
    'Y_Value': y_data,
    'Size_Metric': size_data,
    'Color_Metric': color_data
})





# 使用 Matplotlib
plt.figure(figsize=(10, 7))
plt.scatter(df_3d['X_Value'], df_3d['Y_Value'], s=df_3d['Size_Metric']/5, alpha=0.6, c='skyblue', edgecolors='w')
# s参数直接控制点面积，除以一个因子使气泡大小适中
plt.xlabel("X Value")
plt.ylabel("Y Value")
plt.title("Bubble Chart (Matplotlib) - Size represents Size_Metric")
plt.colorbar(plt.scatter(df_3d['X_Value'], df_3d['Y_Value'], s=df_3d['Size_Metric']/5, c=df_3d['Size_Metric'], cmap='viridis'), label='Size_Metric Value') # 添加一个参照的colorbar
plt.show()

# 使用 Seaborn (更推荐，因其 size 参数处理更直观)
plt.figure(figsize=(10, 7))
sns.scatterplot(data=df_3d, x='X_Value', y='Y_Value', size='Size_Metric',
                sizes=(50, 1000), # 控制气泡大小的最小和最大范围
                alpha=0.7, hue='Size_Metric', palette='viridis') # 用颜色也辅助表示大小
plt.xlabel("X Value")
plt.ylabel("Y Value")
plt.title("Bubble Chart (Seaborn) - Size represents Size_Metric")
plt.legend(title='Size_Metric', loc='upper left', bbox_to_anchor=(1, 1)) #调整图例位置
plt.tight_layout()
plt.show()





# 使用 Matplotlib
plt.figure(figsize=(10, 7))
scatter = plt.scatter(df_3d['X_Value'], df_3d['Y_Value'], c=df_3d['Color_Metric'], cmap='coolwarm', s=50, alpha=0.8, edgecolors='w')
plt.xlabel("X Value")
plt.ylabel("Y Value")
plt.title("Scatter Plot with Color Mapping (Matplotlib) - Color represents Color_Metric")
plt.colorbar(scatter, label='Color_Metric Value') # 添加颜色条
plt.show()

# 使用 Seaborn
plt.figure(figsize=(10, 7))
sns.scatterplot(data=df_3d, x='X_Value', y='Y_Value', hue='Color_Metric',
                palette='coolwarm', s=60, alpha=0.8, edgecolor=None)
plt.xlabel("X Value")
plt.ylabel("Y Value")
plt.title("Scatter Plot with Color Mapping (Seaborn) - Color represents Color_Metric")
plt.legend(title='Color_Metric', loc='upper left', bbox_to_anchor=(1, 1))
plt.tight_layout()
plt.show()





plt.figure(figsize=(12, 8))
sns.scatterplot(data=df_3d, x='X_Value', y='Y_Value',
                size='Size_Metric', sizes=(50, 1000),
                hue='Color_Metric', palette='coolwarm',
                alpha=0.7)
plt.xlabel("X Value")
plt.ylabel("Y Value")
plt.title("Bubble Chart with Color Mapping - Size for Size_Metric, Color for Color_Metric")
plt.legend(loc='upper left', bbox_to_anchor=(1, 1))
plt.tight_layout()
plt.show()





fig = plt.figure(figsize=(10, 8))
ax = fig.add_subplot(111, projection='3d') # 创建一个3D坐标轴

# 使用 Size_Metric 作为 Z 轴
scatter3d = ax.scatter(df_3d['X_Value'], df_3d['Y_Value'], df_3d['Size_Metric'],
                       c=df_3d['Color_Metric'], cmap='viridis', s=50) # 用Color_Metric上色

ax.set_xlabel('X Value')
ax.set_ylabel('Y Value')
ax.set_zlabel('Size_Metric')
ax.set_title('3D Scatter Plot')
fig.colorbar(scatter3d, label='Color_Metric Value', shrink=0.5, aspect=10, pad=0.1)
plt.show()





import pandas as pd
import numpy as np
import seaborn as sns
import matplotlib.pyplot as plt
from sklearn.datasets import load_iris # 经典的鸢尾花数据集

# 示例1: 鸢尾花数据
iris = load_iris()
iris_df = pd.DataFrame(data=iris.data, columns=iris.feature_names)
# iris_df['species'] = pd.Categorical.from_codes(iris.target, iris.target_names) # 如果需要分类信息

# 示例2: 模拟学生各科成绩 (10个学生, 5门课)
np.random.seed(123)
student_scores_data = np.random.randint(60, 100, size=(10, 5))
subjects = ['语文', '数学', '英语', '物理', '化学']
scores_df = pd.DataFrame(student_scores_data, columns=subjects)
scores_df['student_id'] = [f'Student_{i+1}' for i in range(10)] # 加一个学生ID





# 计算鸢尾花数据数值特征间的相关系数矩阵
correlation_matrix_iris = iris_df.corr()

plt.figure(figsize=(8, 6))
sns.heatmap(correlation_matrix_iris, annot=True, cmap='coolwarm', fmt=".2f", linewidths=.5)
# annot=True: 在格子上显示数值
# cmap='coolwarm': 使用冷暖色调，红色表示正相关，蓝色表示负相关
# fmt=".2f": 格式化输出的数字，保留两位小数
# linewidths: 格子间的线条宽度
plt.title('Correlation Matrix of Iris Features')
plt.show()

# 计算学生成绩的相关系数矩阵
correlation_matrix_scores = scores_df[subjects].corr()
plt.figure(figsize=(8, 6))

# plt.rcParams['font.sans-serif'] = ['SimHei'] # 例如，设置中文字体为黑体 (需确保系统有此字体)
# plt.rcParams['axes.unicode_minus'] = False # 解决负号显示问题
sns.heatmap(correlation_matrix_scores, annot=True, cmap='viridis', fmt=".2f")
plt.title('Correlation Matrix of Student Scores (科目相关性热力图)')
plt.show()





# 对鸢尾花数据制作成对图
# sns.pairplot(iris_df) # 基本用法
# plt.suptitle('Pair Plot of Iris Features', y=1.02) # y=1.02 调整总标题位置
# plt.show()

# 可以加入分类变量用颜色区分 (如果数据中有分类列)
iris_df_with_species = iris_df.copy()
iris_df_with_species['species'] = pd.Categorical.from_codes(iris.target, iris.target_names)

sns.pairplot(iris_df_with_species, hue='species', diag_kind='kde', markers=["o", "s", "D"])
# hue='species': 根据species列用不同颜色标记
# diag_kind='kde': 对角线上用核密度估计图代替直方图
# markers: 为不同类别指定不同的点样式
plt.suptitle('Pair Plot of Iris Features by Species', y=1.02)
plt.show()

# 对学生成绩数据制作成对图 (可能意义不大，因为变量间关系不一定像物理特征那样明确)
# sns.pairplot(scores_df[subjects], diag_kind='hist')
# plt.suptitle('Pair Plot of Student Scores', y=1.02)
# plt.show()





from pandas.plotting import parallel_coordinates

# 平行坐标图对鸢尾花数据 (按种类上色)
plt.figure(figsize=(12, 6))
parallel_coordinates(iris_df_with_species, 'species', colormap='viridis', linewidth=1.5, alpha=0.7)
plt.title('Parallel Coordinates Plot of Iris Data by Species')
plt.xticks(rotation=15) #轻微旋转轴标签，如果它们太密集
plt.grid(False) # 通常平行坐标图不带背景格网
plt.show()

# 平行坐标图对部分学生成绩 (可以用来比较高分/低分学生的模式)
# 假设我们按总分高低给学生分类
scores_df['Total_Score'] = scores_df[subjects].sum(axis=1)
scores_df['Score_Group'] = pd.qcut(scores_df['Total_Score'], q=3, labels=['Low', 'Medium', 'High'])

plt.figure(figsize=(10, 5))
# 选择要展示的科目和分类列
parallel_coordinates(scores_df[['语文', '数学', '英语', '物理', '化学', 'Score_Group']],
                     'Score_Group', colormap=plt.get_cmap("Set2"))
plt.title('Parallel Coordinates of Student Scores by Score Group (学生成绩分数组模式)')
plt.show()





from sklearn.preprocessing import StandardScaler
from sklearn.decomposition import PCA

# 1. 标准化数据 (对PCA很重要)
features_to_scale = iris_df.columns # 如果有非数值列，要先去掉
x_scaled = StandardScaler().fit_transform(iris_df[features_to_scale])

# 2. 应用PCA
pca = PCA(n_components=2) # 降到2维
principal_components = pca.fit_transform(x_scaled)
pca_df = pd.DataFrame(data=principal_components, columns=['PC1', 'PC2'])

# 如果有类别信息，可以加上
# pca_df['species'] = iris_df_with_species['species'] # 确保行对应

# 3. 可视化降维后的数据
plt.figure(figsize=(8, 6))
# sns.scatterplot(data=pca_df, x='PC1', y='PC2', hue='species') # 如果有species列
sns.scatterplot(x=pca_df['PC1'], y=pca_df['PC2'],
                c=iris.target, cmap='viridis') # 用原始target上色
plt.xlabel('Principal Component 1')
plt.ylabel('Principal Component 2')
plt.title('PCA of Iris Dataset (2 Components)')
plt.show()

print(f"Explained variance ratio by PC1: {pca.explained_variance_ratio_[0]:.2f}")
print(f"Explained variance ratio by PC2: {pca.explained_variance_ratio_[1]:.2f}")





import pandas as pd
import numpy as np
import seaborn as sns
import matplotlib.pyplot as plt

# 示例数据
np.random.seed(101)
data = {
    'category': ['A', 'B', 'C', 'A', 'B', 'C', 'A', 'B', 'C', 'A', 'B', 'C', 'D', 'D', 'D'],
    'value': np.random.randn(15) * 10 + 50, # 均值50，有一些波动
    'group': ['X', 'X', 'X', 'Y', 'Y', 'Y', 'X', 'X', 'X', 'Y', 'Y', 'Y', 'X', 'Y', 'X'],
    'sub_category': ['S1', 'S1', 'S2', 'S2', 'S1', 'S2', 'S1', 'S2', 'S1', 'S2', 'S1', 'S1', 'S2', 'S1', 'S2']
}
df = pd.DataFrame(data)

# 为小提琴图和箱线图生成更适合展示分布差异的数据
tips = sns.load_dataset('tips') # Seaborn自带的小费数据集
# 'day': 周四/周五/周六/周日 (分类)
# 'total_bill': 总消费金额 (数值)
# 'sex': Male/Female (分类)





plt.figure(figsize=(8, 5))
sns.barplot(x='category', y='value', data=df, palette='pastel', ci='sd') # ci='sd' 显示标准差
plt.title('Average Value by Category (Bar Plot)')
plt.ylabel("Average Value")
plt.xlabel("Category")
plt.show()

# 比较不同天的平均总消费
plt.figure(figsize=(8, 5))
sns.barplot(x='day', y='total_bill', data=tips, palette='viridis')
plt.title('Average Total Bill by Day')
plt.ylabel("Average Total Bill ($)")
plt.xlabel("Day of the Week")
plt.show()





plt.figure(figsize=(8, 5))
sns.boxplot(x='category', y='value', data=df, palette='Set2')
plt.title('Distribution of Value by Category (Box Plot)')
plt.ylabel("Value")
plt.xlabel("Category")
plt.show()

# 比较不同天的总消费分布
plt.figure(figsize=(8, 5))
sns.boxplot(x='day', y='total_bill', data=tips, palette='coolwarm')
plt.title('Distribution of Total Bill by Day')
plt.ylabel("Total Bill ($)")
plt.xlabel("Day of the Week")
plt.show()





plt.figure(figsize=(8, 5))
sns.violinplot(x='category', y='value', data=df, palette='husl', inner='quartile') # inner='quartile' 显示四分位数
plt.title('Distribution of Value by Category (Violin Plot)')
plt.ylabel("Value")
plt.xlabel("Category")
plt.show()

# 比较不同天的总消费分布 (小提琴图)
plt.figure(figsize=(8, 5))
sns.violinplot(x='day', y='total_bill', data=tips, palette='muted', inner='box') # inner='box' 在小提琴内部画箱线图
plt.title('Distribution of Total Bill by Day (Violin Plot)')
plt.ylabel("Total Bill ($)")
plt.xlabel("Day of the Week")
plt.show()





# 假设df_many_categories有很多类别
# sns.barplot(x='many_categories_column', y='value_column', data=df_many_categories)
# plt.xticks(rotation=45, ha='right') # ha='right' 确保标签对齐刻度
# plt.tight_layout()
# plt.show()





plt.figure(figsize=(8, 6)) # 可能需要更宽的图
sns.barplot(x='value', y='category', data=df, palette='pastel', orient='h') # orient='h' for horizontal
plt.title('Average Value by Category (Horizontal Bar Plot)')
plt.xlabel("Average Value")
plt.ylabel("Category")
plt.show()





# 分组条形图: 比较不同 'category' 下，不同 'group' 的 'value' 均值
plt.figure(figsize=(10, 6))
sns.barplot(x='category', y='value', hue='group', data=df, palette='Paired')
plt.title('Average Value by Category, Grouped by Group')
plt.ylabel("Average Value")
plt.xlabel("Category")
plt.legend(title='Group')
plt.show()

# 分组箱线图: 比较不同 'day' 下，不同 'sex' 的 'total_bill' 分布
plt.figure(figsize=(10, 6))
sns.boxplot(x='day', y='total_bill', hue='sex', data=tips, palette='gender') # Seaborn 2024.7+ 可能用 'gender' palette
plt.title('Total Bill Distribution by Day, Grouped by Sex')
plt.ylabel("Total Bill ($)")
plt.xlabel("Day of the Week")
plt.legend(title='Sex')
plt.show()





# 使用 catplot 进行分面条形图
# col='group' 会为 'group' 列的每个唯一值创建一个子图面板
g = sns.catplot(x='category', y='value', col='group', data=df, kind='bar', palette='viridis', height=4, aspect=1.2)
# kind 可以是 'bar', 'box', 'violin', 'strip', 'swarm' 等
g.fig.suptitle('Average Value by Category, Faceted by Group', y=1.03) # 总标题
g.set_axis_labels("Category", "Average Value")
plt.show()

# 使用 catplot 进行分面箱线图
g = sns.catplot(x='day', y='total_bill', col='time', row='sex', data=tips, kind='box', palette='Spectral', height=3.5, aspect=1)
# col='time' (Lunch/Dinner), row='sex' (Male/Female)
g.fig.suptitle('Total Bill Distribution, Faceted by Time and Sex', y=1.03)
g.set_axis_labels("Day of the Week", "Total Bill ($)")
plt.show()





plt.figure(figsize=(10, 6))
sns.swarmplot(x='day', y='total_bill', data=tips, palette='Set2', size=4) # size 调整点的大小
plt.title('Total Bill by Day (Swarm Plot - All Data Points)')
plt.ylabel("Total Bill ($)")
plt.xlabel("Day of the Week")
plt.show()

# 可以和箱线图/小提琴图叠加
plt.figure(figsize=(10, 6))
sns.violinplot(x='day', y='total_bill', data=tips, palette='lightgray', inner=None) # inner=None 去掉小提琴内部
sns.swarmplot(x='day', y='total_bill', data=tips, color='black', size=3, alpha=0.7)
plt.title('Total Bill by Day (Violin + Swarm Plot)')
plt.ylabel("Total Bill ($)")
plt.xlabel("Day of the Week")
plt.show()





plt.figure(figsize=(8, 5))
sns.pointplot(x='day', y='total_bill', hue='sex', data=tips, palette={'Male':'blue', 'Female':'red'}, dodge=True)
# dodge=True 使不同hue的点和线错开，避免重叠
plt.title('Average Total Bill by Day and Sex (Point Plot)')
plt.ylabel("Average Total Bill ($)")
plt.xlabel("Day of the Week")
plt.legend(title='Sex')
plt.grid(True, linestyle='--', alpha=0.5)
plt.show()






