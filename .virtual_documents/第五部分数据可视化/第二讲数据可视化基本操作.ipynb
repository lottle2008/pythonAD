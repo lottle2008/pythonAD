


import pandas as pd
import matplotlib.pyplot as plt

# 创建一个包含每月销售数据的 DataFrame
data = {
    'Month': ['Jan', 'Feb', 'Mar', 'Apr', 'May', 'Jun', 'Jul', 'Aug', 'Sep', 'Oct', 'Nov', 'Dec'],
    'Sales': [1500, 1800, 2500, 2300, 3000, 3500, 4000, 3700, 3800, 4200, 4500, 5000]
}
df = pd.DataFrame(data)

# 使用 Pandas 绘制折线图
df.plot(x='Month', y='Sales', kind='line', marker='o', linestyle='-', color='b', label='Sales')

# 添加图表标题和坐标轴标签
plt.title('Monthly Sales Trend', fontsize=16, color='purple', loc='center')  # 图表标题，设置字体大小、颜色和位置
plt.xlabel('Month', fontsize=14, color='green', labelpad=20)               # 横坐标标签，描述月份，并调整与轴的距离
plt.ylabel('Sales Amount', fontsize=14, color='green', labelpad=20)        # 纵坐标标签，描述销售额，并调整与轴的距离

# 自定义横坐标标签样式
plt.xticks(rotation=45, fontsize=12, color='red')             # 横坐标标签旋转 45 度，字体大小为 12，颜色为红色

# 自定义纵坐标标签样式
plt.yticks(fontsize=12, color='blue')                         # 纵坐标标签字体大小为 12，颜色为蓝色

# 添加网格线，便于阅读
plt.grid(True)

# 自定义图例的位置、字体大小等
plt.legend(loc='upper left', fontsize=12, title="Sales Data", title_fontsize=14, frameon=False)  # 图例在左上角，字体大小为 12，标题为 "Sales Data"，标题字体大小为 14，去除边框

# 显示图表
plt.show()










