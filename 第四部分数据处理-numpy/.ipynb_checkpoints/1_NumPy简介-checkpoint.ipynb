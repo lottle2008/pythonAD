{
 "cells": [
  {
   "cell_type": "markdown",
   "metadata": {},
   "source": [
    "# NumPy简介\n",
    "\n",
    "## 什么是NumPy？\n",
    "\n",
    "NumPy（Numerical Python的缩写）是Python科学计算的基础库，它提供了高性能的多维数组对象和处理这些数组的工具。NumPy是许多其他科学计算库的基础，如SciPy、Pandas、Matplotlib等。\n",
    "\n",
    "NumPy的核心是**ndarray**（N-dimensional array，N维数组）对象，它是一个快速、灵活的大数据集容器，可以进行向量化操作，提供了许多高级的数学函数，使得对数组数据的操作既简单又高效。"
   ]
  },
  {
   "cell_type": "markdown",
   "metadata": {},
   "source": [
    "## 为什么要学习NumPy？\n",
    "\n",
    "1. **计算效率高**：NumPy的数组运算比Python原生列表快得多，因为NumPy使用了优化的C代码\n",
    "2. **内存效率高**：NumPy数组比Python列表更加紧凑，占用更少的内存\n",
    "3. **功能丰富**：NumPy提供了大量的数学函数和工具，可以轻松处理数组数据\n",
    "4. **数据科学基础**：NumPy是数据科学和机器学习的基础库，许多高级库（如Pandas、scikit-learn等）都是基于NumPy构建的\n",
    "5. **向量化操作**：NumPy允许你对整个数组执行操作，而不需要使用循环，这使得代码更简洁、更易读"
   ]
  },
  {
   "cell_type": "markdown",
   "metadata": {},
   "source": [
    "## NumPy与Python原生列表的比较\n",
    "\n",
    "| 特性 | Python列表 | NumPy数组 |\n",
    "|------|------------|----------|\n",
    "| 数据类型 | 可以混合不同类型 | 所有元素必须是同一类型 |\n",
    "| 大小 | 可变 | 固定 |\n",
    "| 内存效率 | 低 | 高 |\n",
    "| 计算效率 | 低 | 高 |\n",
    "| 功能 | 基本操作 | 丰富的数学函数 |\n",
    "| 多维支持 | 需要嵌套列表 | 原生支持多维数组 |"
   ]
  },
  {
   "cell_type": "markdown",
   "metadata": {},
   "source": [
    "## 安装NumPy\n",
    "\n",
    "NumPy可以通过多种方式安装："
   ]
  },
  {
   "cell_type": "markdown",
   "metadata": {},
   "source": [
    "### 使用pip安装\n",
    "\n",
    "```bash\n",
    "pip install numpy\n",
    "```"
   ]
  },
  {
   "cell_type": "markdown",
   "metadata": {},
   "source": [
    "### 使用Anaconda安装\n",
    "\n",
    "Anaconda是一个Python发行版，预装了NumPy、SciPy、Matplotlib等科学计算包。\n",
    "\n",
    "```bash\n",
    "conda install numpy\n",
    "```"
   ]
  },
  {
   "cell_type": "markdown",
   "metadata": {},
   "source": [
    "## 导入NumPy\n",
    "\n",
    "在Python中使用NumPy的标准方式是："
   ]
  },
  {
   "cell_type": "code",
   "execution_count": 1,
   "metadata": {
    "ExecuteTime": {
     "end_time": "2025-05-13T09:34:10.236184Z",
     "start_time": "2025-05-13T09:34:10.175115Z"
    }
   },
   "outputs": [
    {
     "name": "stdout",
     "output_type": "stream",
     "text": [
      "NumPy版本: 1.26.4\n"
     ]
    }
   ],
   "source": [
    "import numpy as np\n",
    "\n",
    "# 检查NumPy版本\n",
    "print(\"NumPy版本:\", np.__version__)"
   ]
  },
  {
   "cell_type": "markdown",
   "metadata": {},
   "source": [
    "约定俗成使用`np`作为NumPy的别名，这样可以减少代码量，并且使代码更易读。"
   ]
  },
  {
   "cell_type": "markdown",
   "metadata": {},
   "source": [
    "## NumPy与MATLAB的比较\n",
    "\n",
    "对于有MATLAB经验的用户，NumPy提供了类似的功能，但有一些重要的区别：\n",
    "\n",
    "1. **索引从0开始**：NumPy的索引从0开始，而MATLAB从1开始\n",
    "2. **数组操作**：NumPy中`*`表示元素级乘法，`@`表示矩阵乘法，而MATLAB中`*`表示矩阵乘法，`.*`表示元素级乘法\n",
    "3. **数组切片**：NumPy数组切片使用引用语义（不复制数据），而MATLAB使用传值语义\n",
    "4. **函数命名**：NumPy和MATLAB的函数命名有所不同，例如MATLAB的`size`对应NumPy的`shape`\n",
    "\n",
    "NumPy的优势在于它是Python生态系统的一部分，可以与其他Python库无缝集成，而且是开源免费的。"
   ]
  },
  {
   "cell_type": "markdown",
   "metadata": {},
   "source": [
    "## NumPy的生态系统\n",
    "\n",
    "NumPy是Python科学计算生态系统的基础，许多其他库都是基于NumPy构建的：\n",
    "\n",
    "- **SciPy**：科学计算库，提供了更多的数学函数和算法\n",
    "- **Pandas**：数据分析库，提供了DataFrame等数据结构\n",
    "- **Matplotlib**：数据可视化库\n",
    "- **scikit-learn**：机器学习库\n",
    "- **TensorFlow/PyTorch**：深度学习库\n",
    "\n",
    "学习NumPy是进入Python数据科学和机器学习领域的第一步。"
   ]
  },
  {
   "cell_type": "markdown",
   "metadata": {},
   "source": [
    "## 一个简单的NumPy示例\n",
    "\n",
    "让我们通过一个简单的例子来展示NumPy的基本用法："
   ]
  },
  {
   "cell_type": "code",
   "execution_count": 1,
   "metadata": {
    "ExecuteTime": {
     "end_time": "2025-05-13T09:34:10.325433Z",
     "start_time": "2025-05-13T09:34:10.290779Z"
    }
   },
   "outputs": [
    {
     "name": "stdout",
     "output_type": "stream",
     "text": [
      "Python列表计算平方用时: 0.027198秒\n",
      "NumPy数组计算平方用时: 0.000731秒\n",
      "NumPy比Python列表快了约 37.2 倍\n"
     ]
    }
   ],
   "source": [
    "import numpy as np\n",
    "import time\n",
    "\n",
    "# 创建一个大的Python列表和NumPy数组\n",
    "size = 1000000\n",
    "\n",
    "# Python列表\n",
    "py_list = list(range(size))\n",
    "\n",
    "# NumPy数组\n",
    "np_array = np.arange(size)\n",
    "\n",
    "# 计算Python列表中所有元素的平方\n",
    "start_time = time.time()\n",
    "py_list_squared = [x**2 for x in py_list]\n",
    "py_time = time.time() - start_time\n",
    "print(f\"Python列表计算平方用时: {py_time:.6f}秒\")\n",
    "\n",
    "# 计算NumPy数组中所有元素的平方\n",
    "start_time = time.time()\n",
    "np_array_squared = np_array**2\n",
    "np_time = time.time() - start_time\n",
    "print(f\"NumPy数组计算平方用时: {np_time:.6f}秒\")\n",
    "\n",
    "# 计算加速比\n",
    "speedup = py_time / np_time\n",
    "print(f\"NumPy比Python列表快了约 {speedup:.1f} 倍\")"
   ]
  },
  {
   "cell_type": "markdown",
   "metadata": {},
   "source": [
    "这个例子展示了NumPy的计算效率优势。NumPy数组操作通常比等效的Python列表操作快几十到几百倍，特别是对于大型数据集。"
   ]
  },
  {
   "cell_type": "markdown",
   "metadata": {},
   "source": [
    "## 小结\n",
    "\n",
    "在这个简介中，我们了解了：\n",
    "\n",
    "- NumPy是什么以及为什么它在数据科学中如此重要\n",
    "- NumPy与Python原生列表的区别\n",
    "- 如何安装和导入NumPy\n",
    "- NumPy与MATLAB的比较\n",
    "- NumPy在Python科学计算生态系统中的位置\n",
    "- NumPy的性能优势\n",
    "\n",
    "在接下来的教程中，我们将深入探讨NumPy的核心功能，包括数组创建、索引、切片、形状操作、数学运算等。"
   ]
  }
 ],
 "metadata": {
  "kernelspec": {
   "display_name": "Python 3 (ipykernel)",
   "language": "python",
   "name": "python3"
  },
  "language_info": {
   "codemirror_mode": {
    "name": "ipython",
    "version": 3
   },
   "file_extension": ".py",
   "mimetype": "text/x-python",
   "name": "python",
   "nbconvert_exporter": "python",
   "pygments_lexer": "ipython3",
   "version": "3.12.2"
  }
 },
 "nbformat": 4,
 "nbformat_minor": 4
}
